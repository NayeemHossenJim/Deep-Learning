{
  "metadata": {
    "kernelspec": {
      "language": "python",
      "display_name": "Python 3",
      "name": "python3"
    },
    "language_info": {
      "name": "python",
      "version": "3.11.13",
      "mimetype": "text/x-python",
      "codemirror_mode": {
        "name": "ipython",
        "version": 3
      },
      "pygments_lexer": "ipython3",
      "nbconvert_exporter": "python",
      "file_extension": ".py"
    },
    "kaggle": {
      "accelerator": "nvidiaTeslaT4",
      "dataSources": [],
      "dockerImageVersionId": 31090,
      "isInternetEnabled": true,
      "language": "python",
      "sourceType": "notebook",
      "isGpuEnabled": true
    },
    "colab": {
      "name": "GPU_BenchMark.ipynb",
      "provenance": [],
      "include_colab_link": true
    }
  },
  "nbformat_minor": 0,
  "nbformat": 4,
  "cells": [
    {
      "cell_type": "markdown",
      "metadata": {
        "id": "view-in-github",
        "colab_type": "text"
      },
      "source": [
        "<a href=\"https://colab.research.google.com/github/NayeemHossenJim/Deep-Learning/blob/main/GPU_BenchMark.ipynb\" target=\"_parent\"><img src=\"https://colab.research.google.com/assets/colab-badge.svg\" alt=\"Open In Colab\"/></a>"
      ]
    },
    {
      "cell_type": "code",
      "source": [
        "import tensorflow as tf\n",
        "from tensorflow import keras\n",
        "import matplotlib.pyplot as plt\n",
        "import numpy as np"
      ],
      "metadata": {
        "_uuid": "8f2839f25d086af736a60e9eeb907d3b93b6e0e5",
        "_cell_guid": "b1076dfc-b9ad-4769-8c92-a6c4dae69d19",
        "trusted": true,
        "execution": {
          "iopub.status.busy": "2025-08-07T18:21:05.570045Z",
          "iopub.execute_input": "2025-08-07T18:21:05.570317Z",
          "iopub.status.idle": "2025-08-07T18:21:05.575179Z",
          "shell.execute_reply.started": "2025-08-07T18:21:05.570296Z",
          "shell.execute_reply": "2025-08-07T18:21:05.574154Z"
        },
        "id": "vM-RDXZh4xbT"
      },
      "outputs": [],
      "execution_count": null
    },
    {
      "cell_type": "code",
      "source": [
        "tf.test.is_built_with_cuda()"
      ],
      "metadata": {
        "trusted": true,
        "execution": {
          "iopub.status.busy": "2025-08-07T18:21:05.576471Z",
          "iopub.execute_input": "2025-08-07T18:21:05.576694Z",
          "iopub.status.idle": "2025-08-07T18:21:05.598104Z",
          "shell.execute_reply.started": "2025-08-07T18:21:05.576677Z",
          "shell.execute_reply": "2025-08-07T18:21:05.597259Z"
        },
        "id": "pEbLu40Y4xbV",
        "outputId": "001bffb2-3e85-47a4-ade2-d20574b53a28"
      },
      "outputs": [
        {
          "execution_count": 48,
          "output_type": "execute_result",
          "data": {
            "text/plain": "True"
          },
          "metadata": {}
        }
      ],
      "execution_count": null
    },
    {
      "cell_type": "code",
      "source": [
        "tf.config.experimental.list_physical_devices()"
      ],
      "metadata": {
        "trusted": true,
        "execution": {
          "iopub.status.busy": "2025-08-07T18:21:05.598829Z",
          "iopub.execute_input": "2025-08-07T18:21:05.599093Z",
          "iopub.status.idle": "2025-08-07T18:21:05.616784Z",
          "shell.execute_reply.started": "2025-08-07T18:21:05.599075Z",
          "shell.execute_reply": "2025-08-07T18:21:05.616004Z"
        },
        "id": "mNrBk-274xbW",
        "outputId": "58f145ef-12c1-4a10-a651-ae74402db49b"
      },
      "outputs": [
        {
          "execution_count": 49,
          "output_type": "execute_result",
          "data": {
            "text/plain": "[PhysicalDevice(name='/physical_device:CPU:0', device_type='CPU'),\n PhysicalDevice(name='/physical_device:GPU:0', device_type='GPU'),\n PhysicalDevice(name='/physical_device:GPU:1', device_type='GPU')]"
          },
          "metadata": {}
        }
      ],
      "execution_count": null
    },
    {
      "cell_type": "code",
      "source": [
        "(X_train, y_train), (X_test,y_test) = tf.keras.datasets.cifar10.load_data()"
      ],
      "metadata": {
        "trusted": true,
        "execution": {
          "iopub.status.busy": "2025-08-07T18:21:05.618258Z",
          "iopub.execute_input": "2025-08-07T18:21:05.618491Z",
          "iopub.status.idle": "2025-08-07T18:21:08.268495Z",
          "shell.execute_reply.started": "2025-08-07T18:21:05.618475Z",
          "shell.execute_reply": "2025-08-07T18:21:08.267655Z"
        },
        "id": "-_mjWto54xbW"
      },
      "outputs": [],
      "execution_count": null
    },
    {
      "cell_type": "code",
      "source": [
        "X_train.shape"
      ],
      "metadata": {
        "trusted": true,
        "execution": {
          "iopub.status.busy": "2025-08-07T18:21:08.269339Z",
          "iopub.execute_input": "2025-08-07T18:21:08.269654Z",
          "iopub.status.idle": "2025-08-07T18:21:08.27497Z",
          "shell.execute_reply.started": "2025-08-07T18:21:08.269627Z",
          "shell.execute_reply": "2025-08-07T18:21:08.274275Z"
        },
        "id": "tB_XpdYc4xbW",
        "outputId": "bc042d3e-6f3a-48a8-fdf2-d95af39d9712"
      },
      "outputs": [
        {
          "execution_count": 51,
          "output_type": "execute_result",
          "data": {
            "text/plain": "(50000, 32, 32, 3)"
          },
          "metadata": {}
        }
      ],
      "execution_count": null
    },
    {
      "cell_type": "code",
      "source": [
        "def plot_sample(index):\n",
        "    plt.figure(figsize = (10,1))\n",
        "    plt.imshow(X_train[index])"
      ],
      "metadata": {
        "trusted": true,
        "execution": {
          "iopub.status.busy": "2025-08-07T18:21:08.275771Z",
          "iopub.execute_input": "2025-08-07T18:21:08.276046Z",
          "iopub.status.idle": "2025-08-07T18:21:08.957891Z",
          "shell.execute_reply.started": "2025-08-07T18:21:08.276012Z",
          "shell.execute_reply": "2025-08-07T18:21:08.957062Z"
        },
        "id": "XYCnvogd4xbW"
      },
      "outputs": [],
      "execution_count": null
    },
    {
      "cell_type": "code",
      "source": [
        "classes = [\"airplane\",\"automobile\",\"bird\",\"cat\",\"deer\",\"dog\",\"frog\",\"horse\",\"ship\",\"truck\"]\n",
        "plot_sample(3)"
      ],
      "metadata": {
        "trusted": true,
        "execution": {
          "iopub.status.busy": "2025-08-07T18:21:08.958676Z",
          "iopub.execute_input": "2025-08-07T18:21:08.958964Z",
          "iopub.status.idle": "2025-08-07T18:21:09.068727Z",
          "shell.execute_reply.started": "2025-08-07T18:21:08.958941Z",
          "shell.execute_reply": "2025-08-07T18:21:09.067955Z"
        },
        "id": "g4k8ZniS4xbX",
        "outputId": "131fb10b-8342-4f70-eb8f-5354ae194b65"
      },
      "outputs": [
        {
          "output_type": "display_data",
          "data": {
            "text/plain": "<Figure size 1000x100 with 1 Axes>",
            "image/png": "[encoded data removed]"
          },
          "metadata": {}
        }
      ],
      "execution_count": null
    },
    {
      "cell_type": "code",
      "source": [
        "X_train_scaled = X_train / 255\n",
        "X_test_scaled = X_test / 255"
      ],
      "metadata": {
        "trusted": true,
        "execution": {
          "iopub.status.busy": "2025-08-07T18:21:09.069411Z",
          "iopub.execute_input": "2025-08-07T18:21:09.069634Z",
          "iopub.status.idle": "2025-08-07T18:21:09.540197Z",
          "shell.execute_reply.started": "2025-08-07T18:21:09.069618Z",
          "shell.execute_reply": "2025-08-07T18:21:09.539594Z"
        },
        "id": "oVAK0f-B4xbX"
      },
      "outputs": [],
      "execution_count": null
    },
    {
      "cell_type": "code",
      "source": [
        "y_train_categorical = keras.utils.to_categorical(\n",
        "    y_train, num_classes=10\n",
        ")\n",
        "y_test_categorical = keras.utils.to_categorical(\n",
        "    y_test, num_classes=10\n",
        ")"
      ],
      "metadata": {
        "trusted": true,
        "execution": {
          "iopub.status.busy": "2025-08-07T18:21:09.54089Z",
          "iopub.execute_input": "2025-08-07T18:21:09.541076Z",
          "iopub.status.idle": "2025-08-07T18:21:09.546179Z",
          "shell.execute_reply.started": "2025-08-07T18:21:09.541061Z",
          "shell.execute_reply": "2025-08-07T18:21:09.54544Z"
        },
        "id": "r0NaXgdv4xbX"
      },
      "outputs": [],
      "execution_count": null
    },
    {
      "cell_type": "code",
      "source": [
        "y_train_cat[0:5]"
      ],
      "metadata": {
        "trusted": true,
        "execution": {
          "iopub.status.busy": "2025-08-07T18:21:09.548249Z",
          "iopub.execute_input": "2025-08-07T18:21:09.548473Z",
          "iopub.status.idle": "2025-08-07T18:21:09.565859Z",
          "shell.execute_reply.started": "2025-08-07T18:21:09.548456Z",
          "shell.execute_reply": "2025-08-07T18:21:09.56508Z"
        },
        "id": "MiDggGb04xbX",
        "outputId": "1189756f-8fb0-407f-cb4e-ade4983313f6"
      },
      "outputs": [
        {
          "execution_count": 56,
          "output_type": "execute_result",
          "data": {
            "text/plain": "<tf.Tensor: shape=(5, 1, 10), dtype=float32, numpy=\narray([[[0., 0., 0., 0., 0., 0., 1., 0., 0., 0.]],\n\n       [[0., 0., 0., 0., 0., 0., 0., 0., 0., 1.]],\n\n       [[0., 0., 0., 0., 0., 0., 0., 0., 0., 1.]],\n\n       [[0., 0., 0., 0., 1., 0., 0., 0., 0., 0.]],\n\n       [[0., 1., 0., 0., 0., 0., 0., 0., 0., 0.]]], dtype=float32)>"
          },
          "metadata": {}
        }
      ],
      "execution_count": null
    },
    {
      "cell_type": "code",
      "source": [
        "model = keras.Sequential([\n",
        "        keras.layers.Flatten(input_shape=(32,32,3)),\n",
        "        keras.layers.Dense(3000, activation='relu'),\n",
        "        keras.layers.Dense(1000, activation='relu'),\n",
        "        keras.layers.Dense(10, activation='sigmoid')\n",
        "    ])\n",
        "\n",
        "model.compile(optimizer='SGD',\n",
        "              loss='categorical_crossentropy',\n",
        "              metrics=['accuracy'])\n",
        "\n",
        "model.fit(X_train_scaled, y_train_categorical, epochs=1)"
      ],
      "metadata": {
        "trusted": true,
        "execution": {
          "iopub.status.busy": "2025-08-07T18:21:51.725288Z",
          "iopub.execute_input": "2025-08-07T18:21:51.726037Z",
          "iopub.status.idle": "2025-08-07T18:22:01.948304Z",
          "shell.execute_reply.started": "2025-08-07T18:21:51.72601Z",
          "shell.execute_reply": "2025-08-07T18:22:01.947639Z"
        },
        "id": "y22sS6_24xbY",
        "outputId": "b64c3833-f958-4b85-9562-e89f8b89387b"
      },
      "outputs": [
        {
          "name": "stderr",
          "text": "WARNING: All log messages before absl::InitializeLog() is called are written to STDERR\nI0000 00:00:1754590914.415177     125 service.cc:148] XLA service 0x7c25040069f0 initialized for platform CUDA (this does not guarantee that XLA will be used). Devices:\nI0000 00:00:1754590914.416585     125 service.cc:156]   StreamExecutor device (0): Tesla T4, Compute Capability 7.5\nI0000 00:00:1754590914.416606     125 service.cc:156]   StreamExecutor device (1): Tesla T4, Compute Capability 7.5\nI0000 00:00:1754590914.710824     125 cuda_dnn.cc:529] Loaded cuDNN version 90300\n",
          "output_type": "stream"
        },
        {
          "name": "stdout",
          "text": "\u001b[1m  48/1563\u001b[0m \u001b[37m━━━━━━━━━━━━━━━━━━━━\u001b[0m \u001b[1m5s\u001b[0m 3ms/step - accuracy: 0.1388 - loss: 2.3019",
          "output_type": "stream"
        },
        {
          "name": "stderr",
          "text": "I0000 00:00:1754590915.984898     125 device_compiler.h:188] Compiled cluster using XLA!  This line is logged at most once for the lifetime of the process.\n",
          "output_type": "stream"
        },
        {
          "name": "stdout",
          "text": "\u001b[1m1563/1563\u001b[0m \u001b[32m━━━━━━━━━━━━━━━━━━━━\u001b[0m\u001b[37m\u001b[0m \u001b[1m8s\u001b[0m 4ms/step - accuracy: 0.3085 - loss: 1.9268\n",
          "output_type": "stream"
        },
        {
          "execution_count": 58,
          "output_type": "execute_result",
          "data": {
            "text/plain": "<keras.src.callbacks.history.History at 0x7c25c4a4d9d0>"
          },
          "metadata": {}
        }
      ],
      "execution_count": null
    },
    {
      "cell_type": "code",
      "source": [
        "classes[np.argmax(model.predict(X_test_scaled)[1])]"
      ],
      "metadata": {
        "trusted": true,
        "execution": {
          "iopub.status.busy": "2025-08-07T18:26:49.198953Z",
          "iopub.execute_input": "2025-08-07T18:26:49.199887Z",
          "iopub.status.idle": "2025-08-07T18:26:50.360509Z",
          "shell.execute_reply.started": "2025-08-07T18:26:49.19986Z",
          "shell.execute_reply": "2025-08-07T18:26:50.359814Z"
        },
        "id": "wSYOzB-K4xbY",
        "outputId": "41773f47-4298-481b-8522-70831ab5d1d1"
      },
      "outputs": [
        {
          "name": "stdout",
          "text": "\u001b[1m313/313\u001b[0m \u001b[32m━━━━━━━━━━━━━━━━━━━━\u001b[0m\u001b[37m\u001b[0m \u001b[1m1s\u001b[0m 2ms/step\n",
          "output_type": "stream"
        },
        {
          "execution_count": 67,
          "output_type": "execute_result",
          "data": {
            "text/plain": "'automobile'"
          },
          "metadata": {}
        }
      ],
      "execution_count": null
    },
    {
      "cell_type": "code",
      "source": [
        "def get_model():\n",
        "    model = keras.Sequential([\n",
        "            keras.layers.Flatten(input_shape=(32,32,3)),\n",
        "            keras.layers.Dense(3000, activation='relu'),\n",
        "            keras.layers.Dense(1000, activation='relu'),\n",
        "            keras.layers.Dense(10, activation='sigmoid')\n",
        "        ])\n",
        "\n",
        "    model.compile(optimizer='SGD',\n",
        "                  loss='categorical_crossentropy',\n",
        "                  metrics=['accuracy'])\n",
        "    return model"
      ],
      "metadata": {
        "trusted": true,
        "execution": {
          "iopub.status.busy": "2025-08-07T18:30:29.509875Z",
          "iopub.execute_input": "2025-08-07T18:30:29.510174Z",
          "iopub.status.idle": "2025-08-07T18:30:29.51598Z",
          "shell.execute_reply.started": "2025-08-07T18:30:29.510153Z",
          "shell.execute_reply": "2025-08-07T18:30:29.515156Z"
        },
        "id": "byLivAzv4xbY"
      },
      "outputs": [],
      "execution_count": null
    },
    {
      "cell_type": "code",
      "source": [
        "%%timeit -n1 -r1\n",
        "with tf.device('/CPU:0'):\n",
        "    cpu_model = get_model()\n",
        "    cpu_model.fit(X_train_scaled, y_train_categorical, epochs=1)"
      ],
      "metadata": {
        "trusted": true,
        "execution": {
          "iopub.status.busy": "2025-08-07T18:31:52.695301Z",
          "iopub.execute_input": "2025-08-07T18:31:52.696149Z",
          "iopub.status.idle": "2025-08-07T18:33:18.664113Z",
          "shell.execute_reply.started": "2025-08-07T18:31:52.69612Z",
          "shell.execute_reply": "2025-08-07T18:33:18.663422Z"
        },
        "id": "KGBO3lNn4xbY",
        "outputId": "d5133281-2a26-4c6e-a916-fef5492b9bb3"
      },
      "outputs": [
        {
          "name": "stderr",
          "text": "I0000 00:00:1754591514.736257     126 service.cc:148] XLA service 0x7c24accd4dd0 initialized for platform Host (this does not guarantee that XLA will be used). Devices:\nI0000 00:00:1754591514.736308     126 service.cc:156]   StreamExecutor device (0): Host, Default Version\n",
          "output_type": "stream"
        },
        {
          "name": "stdout",
          "text": "\u001b[1m1563/1563\u001b[0m \u001b[32m━━━━━━━━━━━━━━━━━━━━\u001b[0m\u001b[37m\u001b[0m \u001b[1m84s\u001b[0m 53ms/step - accuracy: 0.3074 - loss: 1.9288\n1min 25s ± 0 ns per loop (mean ± std. dev. of 1 run, 1 loop each)\n",
          "output_type": "stream"
        }
      ],
      "execution_count": null
    },
    {
      "cell_type": "code",
      "source": [
        "%%timeit -n1 -r1\n",
        "gpu_model = get_model()\n",
        "gpu_model.fit(X_train_scaled, y_train_categorical, epochs=1)"
      ],
      "metadata": {
        "trusted": true,
        "execution": {
          "iopub.status.busy": "2025-08-07T18:33:31.913361Z",
          "iopub.execute_input": "2025-08-07T18:33:31.913686Z",
          "iopub.status.idle": "2025-08-07T18:33:40.555996Z",
          "shell.execute_reply.started": "2025-08-07T18:33:31.913662Z",
          "shell.execute_reply": "2025-08-07T18:33:40.555208Z"
        },
        "id": "8Gvt9kme4xbY",
        "outputId": "2bfcf600-ed2b-49d9-eb00-47e02fe33740"
      },
      "outputs": [
        {
          "name": "stdout",
          "text": "\u001b[1m1563/1563\u001b[0m \u001b[32m━━━━━━━━━━━━━━━━━━━━\u001b[0m\u001b[37m\u001b[0m \u001b[1m6s\u001b[0m 3ms/step - accuracy: 0.3026 - loss: 1.9397\n8.63 s ± 0 ns per loop (mean ± std. dev. of 1 run, 1 loop each)\n",
          "output_type": "stream"
        }
      ],
      "execution_count": null
    },
    {
      "cell_type": "code",
      "source": [
        "%%timeit -n1 -r1\n",
        "with tf.device('/CPU:0'):\n",
        "    cpu_model = get_model()\n",
        "    cpu_model.fit(X_train_scaled, y_train_categorical, epochs=10)"
      ],
      "metadata": {
        "trusted": true,
        "execution": {
          "iopub.status.busy": "2025-08-07T18:35:36.033878Z",
          "iopub.execute_input": "2025-08-07T18:35:36.03466Z",
          "iopub.status.idle": "2025-08-07T18:49:30.822312Z",
          "shell.execute_reply.started": "2025-08-07T18:35:36.034632Z",
          "shell.execute_reply": "2025-08-07T18:49:30.821685Z"
        },
        "id": "b2sLB34c4xbY",
        "outputId": "97b8d93b-b652-4b12-90aa-282680cae9ba"
      },
      "outputs": [
        {
          "name": "stdout",
          "text": "Epoch 1/10\n\u001b[1m1563/1563\u001b[0m \u001b[32m━━━━━━━━━━━━━━━━━━━━\u001b[0m\u001b[37m\u001b[0m \u001b[1m84s\u001b[0m 53ms/step - accuracy: 0.3019 - loss: 1.9319\nEpoch 2/10\n\u001b[1m1563/1563\u001b[0m \u001b[32m━━━━━━━━━━━━━━━━━━━━\u001b[0m\u001b[37m\u001b[0m \u001b[1m83s\u001b[0m 53ms/step - accuracy: 0.4185 - loss: 1.6452\nEpoch 3/10\n\u001b[1m1563/1563\u001b[0m \u001b[32m━━━━━━━━━━━━━━━━━━━━\u001b[0m\u001b[37m\u001b[0m \u001b[1m83s\u001b[0m 53ms/step - accuracy: 0.4517 - loss: 1.5536\nEpoch 4/10\n\u001b[1m1563/1563\u001b[0m \u001b[32m━━━━━━━━━━━━━━━━━━━━\u001b[0m\u001b[37m\u001b[0m \u001b[1m83s\u001b[0m 53ms/step - accuracy: 0.4783 - loss: 1.4854\nEpoch 5/10\n\u001b[1m1563/1563\u001b[0m \u001b[32m━━━━━━━━━━━━━━━━━━━━\u001b[0m\u001b[37m\u001b[0m \u001b[1m83s\u001b[0m 53ms/step - accuracy: 0.4967 - loss: 1.4301\nEpoch 6/10\n\u001b[1m1563/1563\u001b[0m \u001b[32m━━━━━━━━━━━━━━━━━━━━\u001b[0m\u001b[37m\u001b[0m \u001b[1m84s\u001b[0m 53ms/step - accuracy: 0.5091 - loss: 1.3909\nEpoch 7/10\n\u001b[1m1563/1563\u001b[0m \u001b[32m━━━━━━━━━━━━━━━━━━━━\u001b[0m\u001b[37m\u001b[0m \u001b[1m83s\u001b[0m 53ms/step - accuracy: 0.5228 - loss: 1.3617\nEpoch 8/10\n\u001b[1m1563/1563\u001b[0m \u001b[32m━━━━━━━━━━━━━━━━━━━━\u001b[0m\u001b[37m\u001b[0m \u001b[1m84s\u001b[0m 54ms/step - accuracy: 0.5387 - loss: 1.3132\nEpoch 9/10\n\u001b[1m1563/1563\u001b[0m \u001b[32m━━━━━━━━━━━━━━━━━━━━\u001b[0m\u001b[37m\u001b[0m \u001b[1m84s\u001b[0m 54ms/step - accuracy: 0.5490 - loss: 1.2819\nEpoch 10/10\n\u001b[1m1563/1563\u001b[0m \u001b[32m━━━━━━━━━━━━━━━━━━━━\u001b[0m\u001b[37m\u001b[0m \u001b[1m84s\u001b[0m 54ms/step - accuracy: 0.5629 - loss: 1.2523\n13min 54s ± 0 ns per loop (mean ± std. dev. of 1 run, 1 loop each)\n",
          "output_type": "stream"
        }
      ],
      "execution_count": null
    },
    {
      "cell_type": "code",
      "source": [
        "%%timeit -n1 -r1\n",
        "gpu_model = get_model()\n",
        "gpu_model.fit(X_train_scaled, y_train_categorical, epochs=10)"
      ],
      "metadata": {
        "trusted": true,
        "execution": {
          "iopub.status.busy": "2025-08-07T18:34:35.439907Z",
          "iopub.execute_input": "2025-08-07T18:34:35.440199Z",
          "iopub.status.idle": "2025-08-07T18:35:30.116225Z",
          "shell.execute_reply.started": "2025-08-07T18:34:35.440181Z",
          "shell.execute_reply": "2025-08-07T18:35:30.115548Z"
        },
        "id": "c23agtos4xbZ",
        "outputId": "432def86-56ce-4962-e8c5-49d070e14bf3"
      },
      "outputs": [
        {
          "name": "stdout",
          "text": "Epoch 1/10\n\u001b[1m1563/1563\u001b[0m \u001b[32m━━━━━━━━━━━━━━━━━━━━\u001b[0m\u001b[37m\u001b[0m \u001b[1m6s\u001b[0m 3ms/step - accuracy: 0.3036 - loss: 1.9319\nEpoch 2/10\n\u001b[1m1563/1563\u001b[0m \u001b[32m━━━━━━━━━━━━━━━━━━━━\u001b[0m\u001b[37m\u001b[0m \u001b[1m5s\u001b[0m 3ms/step - accuracy: 0.4198 - loss: 1.6476\nEpoch 3/10\n\u001b[1m1563/1563\u001b[0m \u001b[32m━━━━━━━━━━━━━━━━━━━━\u001b[0m\u001b[37m\u001b[0m \u001b[1m5s\u001b[0m 3ms/step - accuracy: 0.4549 - loss: 1.5489\nEpoch 4/10\n\u001b[1m1563/1563\u001b[0m \u001b[32m━━━━━━━━━━━━━━━━━━━━\u001b[0m\u001b[37m\u001b[0m \u001b[1m5s\u001b[0m 3ms/step - accuracy: 0.4775 - loss: 1.4873\nEpoch 5/10\n\u001b[1m1563/1563\u001b[0m \u001b[32m━━━━━━━━━━━━━━━━━━━━\u001b[0m\u001b[37m\u001b[0m \u001b[1m5s\u001b[0m 3ms/step - accuracy: 0.4966 - loss: 1.4374\nEpoch 6/10\n\u001b[1m1563/1563\u001b[0m \u001b[32m━━━━━━━━━━━━━━━━━━━━\u001b[0m\u001b[37m\u001b[0m \u001b[1m5s\u001b[0m 3ms/step - accuracy: 0.5097 - loss: 1.3952\nEpoch 7/10\n\u001b[1m1563/1563\u001b[0m \u001b[32m━━━━━━━━━━━━━━━━━━━━\u001b[0m\u001b[37m\u001b[0m \u001b[1m5s\u001b[0m 3ms/step - accuracy: 0.5215 - loss: 1.3569\nEpoch 8/10\n\u001b[1m1563/1563\u001b[0m \u001b[32m━━━━━━━━━━━━━━━━━━━━\u001b[0m\u001b[37m\u001b[0m \u001b[1m5s\u001b[0m 3ms/step - accuracy: 0.5403 - loss: 1.3180\nEpoch 9/10\n\u001b[1m1563/1563\u001b[0m \u001b[32m━━━━━━━━━━━━━━━━━━━━\u001b[0m\u001b[37m\u001b[0m \u001b[1m5s\u001b[0m 3ms/step - accuracy: 0.5498 - loss: 1.2845\nEpoch 10/10\n\u001b[1m1563/1563\u001b[0m \u001b[32m━━━━━━━━━━━━━━━━━━━━\u001b[0m\u001b[37m\u001b[0m \u001b[1m5s\u001b[0m 3ms/step - accuracy: 0.5605 - loss: 1.2533\n54.7 s ± 0 ns per loop (mean ± std. dev. of 1 run, 1 loop each)\n",
          "output_type": "stream"
        }
      ],
      "execution_count": null
    }
  ]
}